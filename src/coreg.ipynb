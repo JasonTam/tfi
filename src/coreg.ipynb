{
 "metadata": {
  "name": "",
  "signature": "sha256:e06974fc6c4c99368653d8e9df8fb4b7920c209fb6e9f38810e5ffb60805afa6"
 },
 "nbformat": 3,
 "nbformat_minor": 0,
 "worksheets": [
  {
   "cells": [
    {
     "cell_type": "code",
     "collapsed": false,
     "input": [
      "import os\n",
      "import sys\n",
      "import numpy as np\n",
      "from sklearn.decomposition import PCA\n",
      "from sklearn.preprocessing import StandardScaler\n",
      "from sklearn.neighbors import KNeighborsRegressor\n",
      "\n",
      "\n",
      "DATA_DIR = '/afs/ee.cooper.edu/user/t/a/tam8/documents/tfi/data/'"
     ],
     "language": "python",
     "metadata": {},
     "outputs": [],
     "prompt_number": 13
    },
    {
     "cell_type": "code",
     "collapsed": false,
     "input": [
      "X_train = np.load(os.path.join(DATA_DIR, 'X_train.npy'))\n",
      "X_test = np.load(os.path.join(DATA_DIR, 'X_test.npy'))\n",
      "y_train = np.load(os.path.join(DATA_DIR, 'y_train.npy'))\n",
      "\n",
      "X_all = np.r_[X_train, X_test]"
     ],
     "language": "python",
     "metadata": {},
     "outputs": [],
     "prompt_number": 4
    },
    {
     "cell_type": "code",
     "collapsed": false,
     "input": [
      "scaler = StandardScaler()\n",
      "scaler.fit(X_all)\n",
      "\n",
      "X_L = scaler.transform(X_train)\n",
      "X_U = scaler.transform(X_test)"
     ],
     "language": "python",
     "metadata": {},
     "outputs": [],
     "prompt_number": 18
    },
    {
     "cell_type": "code",
     "collapsed": false,
     "input": [
      "# Init\n",
      "L = [X_L, X_L]\n",
      "y = [y_train, y_train]\n",
      "\n",
      "n_u = len(U)  # number of unlabled observations to use (screw it)\n",
      "# n_u = 100  # number of unlabled observations to use (screw it)\n",
      "U_p = U[np.random.permutation(np.arange(len(U)))[:n_u], :]\n",
      "T = 100  # number of iterations\n",
      "k = [3, 3]    # number of neighbors\n",
      "p = [2, 5]    # minkowsky distance order\n",
      "\n",
      "h = [KNeighborsRegressor(n_neighbors=k_j, p=p_j).fit(L_j, y_j) \n",
      "     for L_j, y_j, k_j, p_j in zip(L, y, k, p)]\n",
      "\n",
      "h_p = [None for ii in range(len(h))]"
     ],
     "language": "python",
     "metadata": {},
     "outputs": [],
     "prompt_number": 134
    },
    {
     "cell_type": "code",
     "collapsed": false,
     "input": [
      "# COREG algorithm\n",
      "# \"Semi-Supervised Regression with Co-Training\"\n",
      "# Zhi-Hua Zhou and Ming Li\n",
      "\n",
      "for t in range(T):\n",
      "    print t,\n",
      "    change_flag = False\n",
      "    for j in range(len(h)):\n",
      "        d_xu_l = []    # List of MSE diffs (per unlabeled obs)\n",
      "        for x_u in U_p:    # a single unlabeled observation\n",
      "            y_est = h[j].predict(x_u)\n",
      "            \n",
      "            # set of (indices) k nearest neighbors of x_u\n",
      "            Omega = h[j].kneighbors(x_u, return_distance=False)\n",
      "            \n",
      "            # new regressor\n",
      "            h_p[j] = KNeighborsRegressor(n_neighbors=k_j, p=p_j)\n",
      "            h_p[j].fit(np.r_[L[j], x_u[None, :]], np.r_[y[j], y_est])\n",
      "            \n",
      "            # Compare MSE\n",
      "            y_i = y[j][Omega[0]]\n",
      "            x_i = L[j][Omega[0], :]\n",
      "            se_o = (y_i - h[j].predict(x_i))**2\n",
      "            se_p = (y_i - h_p[j].predict(x_i))**2\n",
      "            d_xu = (se_o - se_p).sum(axis=0)\n",
      "            \n",
      "            d_xu_l.append(d_xu)\n",
      "            \n",
      "        d_xu_l = np.array(d_xu_l)\n",
      "        if any(d_xu_l > 0):\n",
      "            ind_top = np.argmax(d_xu_l)\n",
      "            x_top = U_p[ind_top, :]\n",
      "            y_top = h[j].predict(x_top)\n",
      "            L[j] = np.append(L[j], x_top[None, :], axis=0)\n",
      "            y[j] = np.append(y[j], y_top)\n",
      "            U_p = np.delete(U_p, (ind_top), axis=0)\n",
      "            \n",
      "            h[j].fit(L[j], y[j]) \n",
      "            change_flag = True\n",
      "    \n",
      "    if change_flag:\n",
      "        # Replenish U_p\n",
      "        # screw it\n",
      "        pass\n",
      "    else:\n",
      "        break\n",
      "        \n",
      "        "
     ],
     "language": "python",
     "metadata": {},
     "outputs": []
    },
    {
     "cell_type": "code",
     "collapsed": false,
     "input": [
      "x_top[None, :].shape"
     ],
     "language": "python",
     "metadata": {},
     "outputs": [
      {
       "metadata": {},
       "output_type": "pyout",
       "prompt_number": 131,
       "text": [
        "(1, 108)"
       ]
      }
     ],
     "prompt_number": 131
    },
    {
     "cell_type": "code",
     "collapsed": false,
     "input": [
      "np.append(d_xu_l, 1)"
     ],
     "language": "python",
     "metadata": {},
     "outputs": [
      {
       "metadata": {},
       "output_type": "pyout",
       "prompt_number": 101,
       "text": [
        "array([ 1.])"
       ]
      }
     ],
     "prompt_number": 101
    },
    {
     "cell_type": "code",
     "collapsed": false,
     "input": [
      "d_xu_l"
     ],
     "language": "python",
     "metadata": {},
     "outputs": [
      {
       "metadata": {},
       "output_type": "pyout",
       "prompt_number": 102,
       "text": [
        "array([], dtype=float64)"
       ]
      }
     ],
     "prompt_number": 102
    }
   ],
   "metadata": {}
  }
 ]
}