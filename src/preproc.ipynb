{
 "metadata": {
  "name": "",
  "signature": "sha256:fc69c1e51920d795e69b217b72aabfee90ce56fc44bf8d005035886ab0ef54f5"
 },
 "nbformat": 3,
 "nbformat_minor": 0,
 "worksheets": [
  {
   "cells": [
    {
     "cell_type": "code",
     "collapsed": false,
     "input": [
      "#############################################################\n",
      "# (modified by jason)\n",
      "# developed by rcarson\n",
      "# aixueer4ever@gmail.com\n",
      "# based on Dmitry Dryomov's tradeshift benchmark\n",
      "############################################################\n",
      "\n",
      "import os\n",
      "from sklearn.feature_extraction import DictVectorizer\n",
      "import pandas as pd\n",
      "from sklearn.ensemble import RandomForestRegressor\n",
      "import numpy as np\n",
      "import datetime\n",
      "\n",
      "DATA_DIR = '/afs/ee.cooper.edu/user/t/a/tam8/documents/tfi/data/'\n",
      "SUBS_DIR = '/afs/ee.cooper.edu/user/t/a/tam8/documents/tfi/submissions/'"
     ],
     "language": "python",
     "metadata": {},
     "outputs": [],
     "prompt_number": 66
    },
    {
     "cell_type": "code",
     "collapsed": false,
     "input": [
      "train = pd.read_csv(os.path.join(DATA_DIR, 'train.csv'))\n",
      "test = pd.read_csv(os.path.join(DATA_DIR, 'test.csv'))\n",
      "\n",
      "# Categorical Features\n",
      "vec = DictVectorizer()\n",
      "names_categorical = []\n",
      "for name in train.columns[1:-1] :    \n",
      "    if not (name.startswith('P') or name == 'Open Date'):\n",
      "        names_categorical.append(name)\n",
      "        print name, len(np.unique(test[name]))\n",
      "        \n",
      "vec.fit(train[names_categorical].T.to_dict().values() + \n",
      "        test[names_categorical].T.to_dict().values())\n",
      "X_train_cat = vec.transform(train[names_categorical].T.to_dict().values()).todense()\n",
      "X_test_cat = vec.transform(test[names_categorical].T.to_dict().values()).todense()\n",
      "\n",
      "# Temporal Features\n",
      "epoch = datetime.datetime.utcfromtimestamp(0)\n",
      "date_tform = lambda d_str: datetime.datetime.strptime(d_str, '%m/%d/%Y')\n",
      "dt_tform = lambda d: (d - epoch).days\n",
      "doy_tform = lambda d: d.timetuple().tm_yday\n",
      "X_train_date = np.array([(dt_tform(date_tform(d)), doy_tform(date_tform(d))) \n",
      "                         for d in train['Open Date']])\n",
      "X_test_date = np.array([(dt_tform(date_tform(d)), doy_tform(date_tform(d))) \n",
      "                        for d in test['Open Date']])\n",
      "              \n",
      "# Numerical Features\n",
      "numerical_label=['P' + str(ii) for ii in range(1, 38)]\n",
      "X_train_num = train[numerical_label]\n",
      "X_test_num = test[numerical_label]\n",
      "\n",
      "# Combine All Features\n",
      "X_train = np.hstack((X_train_cat, X_train_date, X_train_num))\n",
      "X_test = np.hstack((X_test_cat, X_test_date, X_test_num))\n",
      "y_train = train['revenue']\n",
      "\n",
      "print X_train.shape, X_test.shape, y_train.shape"
     ],
     "language": "python",
     "metadata": {},
     "outputs": [
      {
       "output_type": "stream",
       "stream": "stdout",
       "text": [
        "City "
       ]
      },
      {
       "output_type": "stream",
       "stream": "stdout",
       "text": [
        "57\n",
        "City Group 2\n",
        "Type "
       ]
      },
      {
       "output_type": "stream",
       "stream": "stdout",
       "text": [
        "4\n",
        "(137, 108)"
       ]
      },
      {
       "output_type": "stream",
       "stream": "stdout",
       "text": [
        " (100000, 108) (137,)\n"
       ]
      }
     ],
     "prompt_number": 63
    },
    {
     "cell_type": "code",
     "collapsed": false,
     "input": [
      "np.save(os.path.join(DATA_DIR, 'X_train.npy'), X_train)\n",
      "np.save(os.path.join(DATA_DIR, 'y_train.npy'), y_train)\n",
      "\n",
      "np.save(os.path.join(DATA_DIR, 'X_test.npy'), X_test)"
     ],
     "language": "python",
     "metadata": {},
     "outputs": [],
     "prompt_number": 68
    },
    {
     "cell_type": "code",
     "collapsed": false,
     "input": [
      "clf = RandomForestRegressor(n_estimators=2000, n_jobs=-1)\n",
      "clf.fit(X_train, y_train)\n",
      "y_pred = clf.predict(X_test)\n",
      "\n",
      "sub = pd.read_csv(os.path.join(DATA_DIR, 'sampleSubmission.csv'))\n",
      "sub['Prediction'] = y_pred\n",
      "sub.to_csv(os.path.join(SUBS_DIR, 'btb_vanilla.csv'), index=False)"
     ],
     "language": "python",
     "metadata": {},
     "outputs": [],
     "prompt_number": 69
    }
   ],
   "metadata": {}
  }
 ]
}