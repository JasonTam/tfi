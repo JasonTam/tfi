{
 "metadata": {
  "name": "",
  "signature": "sha256:0fedb05d5d096b74a245f7886914c74d1210c2db581447b6dc091dac922c2162"
 },
 "nbformat": 3,
 "nbformat_minor": 0,
 "worksheets": [
  {
   "cells": [
    {
     "cell_type": "code",
     "collapsed": false,
     "input": [
      "import os\n",
      "import sys\n",
      "import numpy as np\n",
      "from time import time\n",
      "from sklearn.decomposition import PCA\n",
      "from sklearn.preprocessing import StandardScaler\n",
      "from sklearn.neighbors import KNeighborsRegressor\n",
      "\n",
      "\n",
      "DATA_DIR = '/afs/ee.cooper.edu/user/t/a/tam8/documents/tfi/data/'"
     ],
     "language": "python",
     "metadata": {},
     "outputs": [
      {
       "output_type": "stream",
       "stream": "stdout",
       "text": [
        "\n"
       ]
      }
     ],
     "prompt_number": 136
    },
    {
     "cell_type": "code",
     "collapsed": false,
     "input": [
      "X_train = np.load(os.path.join(DATA_DIR, 'X_train.npy'))\n",
      "X_test = np.load(os.path.join(DATA_DIR, 'X_test.npy'))\n",
      "y_train = np.load(os.path.join(DATA_DIR, 'y_train.npy'))\n",
      "\n",
      "X_all = np.r_[X_train, X_test]"
     ],
     "language": "python",
     "metadata": {},
     "outputs": [],
     "prompt_number": 4
    },
    {
     "cell_type": "code",
     "collapsed": false,
     "input": [
      "scaler = StandardScaler()\n",
      "scaler.fit(X_all)\n",
      "\n",
      "X_L = scaler.transform(X_train)\n",
      "X_U = scaler.transform(X_test)"
     ],
     "language": "python",
     "metadata": {},
     "outputs": [],
     "prompt_number": 18
    },
    {
     "cell_type": "code",
     "collapsed": false,
     "input": [
      "# Init\n",
      "L = [X_L, X_L]\n",
      "y = [y_train, y_train]\n",
      "\n",
      "# n_u = len(U)  # number of unlabled observations to use (screw it)\n",
      "n_u = 25  # number of unlabled observations to use (screw it)\n",
      "U_p = U[np.random.permutation(np.arange(len(U)))[:n_u], :]\n",
      "T = 100  # number of iterations\n",
      "k = [3, 3]    # number of neighbors\n",
      "p = [2, 5]    # minkowsky distance order\n",
      "\n",
      "h = [KNeighborsRegressor(n_neighbors=k_j, p=p_j).fit(L_j, y_j) \n",
      "     for L_j, y_j, k_j, p_j in zip(L, y, k, p)]\n",
      "\n",
      "h_p = [None for ii in range(len(h))]"
     ],
     "language": "python",
     "metadata": {},
     "outputs": [],
     "prompt_number": 151
    },
    {
     "cell_type": "code",
     "collapsed": false,
     "input": [
      "# COREG algorithm\n",
      "# \"Semi-Supervised Regression with Co-Training\"\n",
      "# Zhi-Hua Zhou and Ming Li\n",
      "\n",
      "for t in range(T):\n",
      "    print t,\n",
      "    tic = time()\n",
      "    change_flag = False\n",
      "    for j in range(len(h)):\n",
      "        d_xu_l = []    # List of MSE diffs (per unlabeled obs)\n",
      "        for x_u in U_p:    # a single unlabeled observation\n",
      "            y_est = h[j].predict(x_u)\n",
      "            \n",
      "            # set of (indices) k nearest neighbors of x_u\n",
      "            Omega = h[j].kneighbors(x_u, return_distance=False)\n",
      "            \n",
      "            # new regressor\n",
      "            h_p[j] = KNeighborsRegressor(n_neighbors=k_j, p=p_j)\n",
      "            h_p[j].fit(np.r_[L[j], x_u[None, :]], np.r_[y[j], y_est])\n",
      "            \n",
      "            # Compare MSE\n",
      "            y_i = y[j][Omega[0]]\n",
      "            x_i = L[j][Omega[0], :]\n",
      "            se_o = (y_i - h[j].predict(x_i))**2\n",
      "            se_p = (y_i - h_p[j].predict(x_i))**2\n",
      "            d_xu = (se_o - se_p).sum(axis=0)\n",
      "            \n",
      "            d_xu_l.append(d_xu)\n",
      "            \n",
      "        d_xu_l = np.array(d_xu_l)\n",
      "        if any(d_xu_l > 0):\n",
      "            ind_top = np.argmax(d_xu_l)\n",
      "            x_top = U_p[ind_top, :]\n",
      "            y_top = h[j].predict(x_top)\n",
      "            L[j] = np.append(L[j], x_top[None, :], axis=0)\n",
      "            y[j] = np.append(y[j], y_top)\n",
      "            U_p = np.delete(U_p, (ind_top), axis=0)\n",
      "            \n",
      "            h[j].fit(L[j], y[j]) \n",
      "            change_flag = True\n",
      "    \n",
      "    if change_flag:\n",
      "        # Replenish U_p\n",
      "        # screw it\n",
      "        pass\n",
      "    else:\n",
      "        break\n",
      "    toc = time() - tic\n",
      "    print toc,\n",
      "        \n",
      "        "
     ],
     "language": "python",
     "metadata": {},
     "outputs": [
      {
       "output_type": "stream",
       "stream": "stdout",
       "text": [
        "0 "
       ]
      },
      {
       "output_type": "stream",
       "stream": "stdout",
       "text": [
        "0.529261112213 1 "
       ]
      },
      {
       "output_type": "stream",
       "stream": "stdout",
       "text": [
        "0.510011196136 2 "
       ]
      },
      {
       "output_type": "stream",
       "stream": "stdout",
       "text": [
        "0.491359949112 3 "
       ]
      },
      {
       "output_type": "stream",
       "stream": "stdout",
       "text": [
        "0.470561027527 4 "
       ]
      },
      {
       "output_type": "stream",
       "stream": "stdout",
       "text": [
        "0.449353933334 5 "
       ]
      },
      {
       "output_type": "stream",
       "stream": "stdout",
       "text": [
        "0.430435180664 6 "
       ]
      },
      {
       "output_type": "stream",
       "stream": "stdout",
       "text": [
        "0.410687923431 7 "
       ]
      },
      {
       "output_type": "stream",
       "stream": "stdout",
       "text": [
        "0.391012907028 8 "
       ]
      },
      {
       "output_type": "stream",
       "stream": "stdout",
       "text": [
        "0.372333049774 9 "
       ]
      },
      {
       "output_type": "stream",
       "stream": "stdout",
       "text": [
        "0.353771924973 10 "
       ]
      },
      {
       "output_type": "stream",
       "stream": "stdout",
       "text": [
        "0.333535909653 11 "
       ]
      },
      {
       "output_type": "stream",
       "stream": "stdout",
       "text": [
        "0.312334060669 12 "
       ]
      },
      {
       "output_type": "stream",
       "stream": "stdout",
       "text": [
        "0.301789045334 13 "
       ]
      },
      {
       "output_type": "stream",
       "stream": "stdout",
       "text": [
        "0.291074991226 14 "
       ]
      },
      {
       "output_type": "stream",
       "stream": "stdout",
       "text": [
        "0.280802965164 15 "
       ]
      },
      {
       "output_type": "stream",
       "stream": "stdout",
       "text": [
        "0.269482135773 16 "
       ]
      },
      {
       "output_type": "stream",
       "stream": "stdout",
       "text": [
        "0.257411956787 17 "
       ]
      },
      {
       "output_type": "stream",
       "stream": "stdout",
       "text": [
        "0.246551036835 18 "
       ]
      },
      {
       "output_type": "stream",
       "stream": "stdout",
       "text": [
        "0.235337018967 19 "
       ]
      },
      {
       "output_type": "stream",
       "stream": "stdout",
       "text": [
        "0.224606990814 20 "
       ]
      },
      {
       "output_type": "stream",
       "stream": "stdout",
       "text": [
        "0.213912010193 21\n"
       ]
      }
     ],
     "prompt_number": 143
    },
    {
     "cell_type": "code",
     "collapsed": false,
     "input": [
      "# MULTIPROC\n",
      "# COREG algorithm\n",
      "# \"Semi-Supervised Regression with Co-Training\"\n",
      "# Zhi-Hua Zhou and Ming Li\n",
      "\n",
      "from joblib import Parallel, delayed  \n",
      "import multiprocessing\n",
      "num_cores = multiprocessing.cpu_count()\n",
      "\n",
      "def calc_d(x_u, h, L, y):\n",
      "    y_est = h.predict(x_u)\n",
      "\n",
      "    # set of (indices) k nearest neighbors of x_u\n",
      "    Omega = h.kneighbors(x_u, return_distance=False)\n",
      "\n",
      "    # new regressor\n",
      "    h_p = KNeighborsRegressor(n_neighbors=k_j, p=p_j)\n",
      "    h_p.fit(np.r_[L, x_u[None, :]], np.r_[y, y_est])\n",
      "\n",
      "    # Compare MSE\n",
      "    y_i = y[Omega[0]]\n",
      "    x_i = L[Omega[0], :]\n",
      "    se_o = (y_i - h.predict(x_i))**2\n",
      "    se_p = (y_i - h_p.predict(x_i))**2\n",
      "    d_xu = (se_o - se_p).sum(axis=0)\n",
      "    return d_xu\n",
      "\n",
      "\n",
      "for t in range(T):\n",
      "    print t,\n",
      "    tic = time()\n",
      "    change_flag = False\n",
      "    for j in range(len(h)):\n",
      "        d_xu_l = []    # List of MSE diffs (per unlabeled obs)\n",
      "        \n",
      "#         for x_u in U_p:    # a single unlabeled observation\n",
      "#             d_xu = calc_d(x_u, h[j], L[j], y[j])\n",
      "#             d_xu_l.append(d_xu)\n",
      "        d_xu_l = Parallel(n_jobs=num_cores)(delayed(calc_d)(x_u, h[j], L[j], y[j]) \n",
      "                                            for x_u in U_p) \n",
      "            \n",
      "        d_xu_l = np.array(d_xu_l)\n",
      "        if any(d_xu_l > 0):\n",
      "            ind_top = np.argmax(d_xu_l)\n",
      "            x_top = U_p[ind_top, :]\n",
      "            y_top = h[j].predict(x_top)\n",
      "            L[j] = np.append(L[j], x_top[None, :], axis=0)\n",
      "            y[j] = np.append(y[j], y_top)\n",
      "            U_p = np.delete(U_p, (ind_top), axis=0)\n",
      "            \n",
      "            h[j].fit(L[j], y[j]) \n",
      "            change_flag = True\n",
      "    \n",
      "    if change_flag:\n",
      "        # Replenish U_p\n",
      "        # screw it\n",
      "        pass\n",
      "    else:\n",
      "        break\n",
      "    toc = time() - tic\n",
      "    print toc,\n",
      "        \n",
      "        "
     ],
     "language": "python",
     "metadata": {},
     "outputs": [
      {
       "output_type": "stream",
       "stream": "stdout",
       "text": [
        "0 "
       ]
      },
      {
       "output_type": "stream",
       "stream": "stdout",
       "text": [
        "0.264763832092 1 "
       ]
      },
      {
       "output_type": "stream",
       "stream": "stdout",
       "text": [
        "0.243134975433 2 "
       ]
      },
      {
       "output_type": "stream",
       "stream": "stdout",
       "text": [
        "0.221701860428 3 "
       ]
      },
      {
       "output_type": "stream",
       "stream": "stdout",
       "text": [
        "0.201841115952 4 "
       ]
      },
      {
       "output_type": "stream",
       "stream": "stdout",
       "text": [
        "0.18059015274 5 "
       ]
      },
      {
       "output_type": "stream",
       "stream": "stdout",
       "text": [
        "0.158977985382 6 "
       ]
      },
      {
       "output_type": "stream",
       "stream": "stdout",
       "text": [
        "0.136895895004 7 "
       ]
      },
      {
       "output_type": "stream",
       "stream": "stdout",
       "text": [
        "0.125781059265 8 "
       ]
      },
      {
       "output_type": "stream",
       "stream": "stdout",
       "text": [
        "0.114409923553 9\n"
       ]
      }
     ],
     "prompt_number": 152
    },
    {
     "cell_type": "code",
     "collapsed": false,
     "input": [
      "np.append(d_xu_l, 1)"
     ],
     "language": "python",
     "metadata": {},
     "outputs": [
      {
       "metadata": {},
       "output_type": "pyout",
       "prompt_number": 101,
       "text": [
        "array([ 1.])"
       ]
      }
     ],
     "prompt_number": 101
    },
    {
     "cell_type": "code",
     "collapsed": false,
     "input": [
      "from joblib import Parallel, delayed  \n",
      "import multiprocessing\n",
      "\n",
      "# what are your inputs, and what operation do you want to \n",
      "# perform on each input. For example...\n",
      "inputs = range(10)  \n",
      "def processInput(i):  \n",
      "    return i * i\n",
      "\n",
      "num_cores = multiprocessing.cpu_count()\n",
      "\n",
      "results = Parallel(n_jobs=num_cores)(delayed(processInput)(i) for i in inputs)  "
     ],
     "language": "python",
     "metadata": {},
     "outputs": [],
     "prompt_number": 144
    },
    {
     "cell_type": "code",
     "collapsed": false,
     "input": [
      "results"
     ],
     "language": "python",
     "metadata": {},
     "outputs": [
      {
       "metadata": {},
       "output_type": "pyout",
       "prompt_number": 145,
       "text": [
        "[0, 1, 4, 9, 16, 25, 36, 49, 64, 81]"
       ]
      }
     ],
     "prompt_number": 145
    }
   ],
   "metadata": {}
  }
 ]
}