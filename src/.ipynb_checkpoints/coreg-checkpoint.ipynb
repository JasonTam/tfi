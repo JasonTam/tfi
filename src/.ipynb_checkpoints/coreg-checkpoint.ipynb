{
 "metadata": {
  "name": "",
  "signature": "sha256:7677813f4a1dbf6d0bc4bcda7dd9cc3cdc784d3be6bd44ff6b5d44e8b36a283d"
 },
 "nbformat": 3,
 "nbformat_minor": 0,
 "worksheets": [
  {
   "cells": [
    {
     "cell_type": "code",
     "collapsed": false,
     "input": [
      "import os\n",
      "import sys\n",
      "import numpy as np\n",
      "from time import time\n",
      "from sklearn.decomposition import PCA\n",
      "from sklearn.preprocessing import StandardScaler\n",
      "from sklearn.neighbors import KNeighborsRegressor\n",
      "\n",
      "from sklearn.pipeline import make_pipeline, make_union\n",
      "from sklearn.base import TransformerMixin, BaseEstimator\n",
      "\n",
      "\n",
      "DATA_DIR = '/afs/ee.cooper.edu/user/t/a/tam8/documents/tfi/data/'"
     ],
     "language": "python",
     "metadata": {},
     "outputs": [],
     "prompt_number": 11
    },
    {
     "cell_type": "code",
     "collapsed": false,
     "input": [
      "class FitlessMixin(TransformerMixin):\n",
      "    def fit_transform(self, X, y=None, **fit_params):\n",
      "        self.fit(X, y, **fit_params)\n",
      "        return self.transform(X)\n",
      "    def fit(self, X, y=None, **fit_params):\n",
      "        return self\n",
      "\n",
      "class AvgMixin(FitlessMixin, BaseEstimator):\n",
      "    def predict(self, X, y=None, **fit_params):\n",
      "        return X.mean(axis=1)"
     ],
     "language": "python",
     "metadata": {},
     "outputs": [],
     "prompt_number": 12
    },
    {
     "cell_type": "code",
     "collapsed": false,
     "input": [
      "X_train = np.load(os.path.join(DATA_DIR, 'X_train.npy'))\n",
      "X_test = np.load(os.path.join(DATA_DIR, 'X_test.npy'))\n",
      "y_train = np.load(os.path.join(DATA_DIR, 'y_train.npy'))\n",
      "\n",
      "X_all = np.r_[X_train, X_test]"
     ],
     "language": "python",
     "metadata": {},
     "outputs": [],
     "prompt_number": 3
    },
    {
     "cell_type": "code",
     "collapsed": false,
     "input": [
      "scaler = StandardScaler()\n",
      "scaler.fit(X_all)\n",
      "pca = PCA(n_components=50).fit(X_all)\n",
      "\n",
      "X_L = pca.transform(scaler.transform(X_train))\n",
      "X_U = pca.transform(scaler.transform(X_test))"
     ],
     "language": "python",
     "metadata": {},
     "outputs": [],
     "prompt_number": 4
    },
    {
     "cell_type": "code",
     "collapsed": false,
     "input": [
      "# Init\n",
      "L = [X_L, X_L]\n",
      "y = [y_train, y_train]\n",
      "\n",
      "# n_u = len(U)  # number of unlabled observations to use (screw it)\n",
      "n_u = 5000  # number of unlabled observations to use (screw it)\n",
      "U_p = X_U[np.random.permutation(np.arange(len(X_U)))[:n_u], :]\n",
      "T = 500  # number of iterations\n",
      "k = [3, 3]    # number of neighbors\n",
      "p = [2, 5]    # minkowsky distance order\n",
      "\n",
      "h = [KNeighborsRegressor(n_neighbors=k_j, p=p_j).fit(L_j, y_j) \n",
      "     for L_j, y_j, k_j, p_j in zip(L, y, k, p)]\n",
      "\n",
      "h_p = [None for ii in range(len(h))]"
     ],
     "language": "python",
     "metadata": {},
     "outputs": [],
     "prompt_number": 7
    },
    {
     "cell_type": "code",
     "collapsed": false,
     "input": [
      "# MULTIPROC\n",
      "# COREG algorithm\n",
      "# \"Semi-Supervised Regression with Co-Training\"\n",
      "# Zhi-Hua Zhou and Ming Li\n",
      "\n",
      "from joblib import Parallel, delayed  \n",
      "import multiprocessing\n",
      "num_cores = multiprocessing.cpu_count()\n",
      "\n",
      "def calc_d(x_u, h, L, y):\n",
      "    y_est = h.predict(x_u)\n",
      "    # set of (indices) k nearest neighbors of x_u\n",
      "    Omega = h.kneighbors(x_u, return_distance=False)\n",
      "    # new regressor\n",
      "    h_p = KNeighborsRegressor(n_neighbors=k_j, p=p_j)\n",
      "    h_p.fit(np.r_[L, x_u[None, :]], np.r_[y, y_est])\n",
      "    # Compare MSE\n",
      "    y_i = y[Omega[0]]\n",
      "    x_i = L[Omega[0], :]\n",
      "    se_o = (y_i - h.predict(x_i))**2\n",
      "    se_p = (y_i - h_p.predict(x_i))**2\n",
      "    d_xu = (se_o - se_p).sum(axis=0)\n",
      "    return d_xu\n",
      "start = time()\n",
      "for t in range(T):\n",
      "    print t,\n",
      "    tic = time()\n",
      "    change_flag = False\n",
      "    for j in range(len(h)):\n",
      "        # List of MSE diffs (per unlabeled obs)\n",
      "        d_xu_l = Parallel(n_jobs=num_cores)(delayed(calc_d)(x_u, h[j], L[j], y[j]) \n",
      "                                            for x_u in U_p) \n",
      "        d_xu_l = np.array(d_xu_l)\n",
      "        if any(d_xu_l > 0):\n",
      "            ind_top = np.argmax(d_xu_l)\n",
      "            x_top = U_p[ind_top, :]\n",
      "            y_top = h[j].predict(x_top)\n",
      "            L[j] = np.append(L[j], x_top[None, :], axis=0)\n",
      "            y[j] = np.append(y[j], y_top)\n",
      "            U_p = np.delete(U_p, (ind_top), axis=0)\n",
      "            \n",
      "            h[j].fit(L[j], y[j]) \n",
      "            change_flag = True\n",
      "    \n",
      "    if change_flag:\n",
      "        # Replenish U_p\n",
      "        # screw it\n",
      "        pass\n",
      "    else:\n",
      "        break\n",
      "    toc = np.round(time() - tic, 2)\n",
      "    print toc,\n",
      "        \n",
      "end = time() - start\n",
      "print 'Total time:', end"
     ],
     "language": "python",
     "metadata": {},
     "outputs": [
      {
       "output_type": "stream",
       "stream": "stdout",
       "text": [
        "0"
       ]
      },
      {
       "output_type": "stream",
       "stream": "stdout",
       "text": [
        " 0.41 1"
       ]
      },
      {
       "output_type": "stream",
       "stream": "stdout",
       "text": [
        " 0.33 2"
       ]
      },
      {
       "output_type": "stream",
       "stream": "stdout",
       "text": [
        " 0.32 3"
       ]
      },
      {
       "output_type": "stream",
       "stream": "stdout",
       "text": [
        " 0.32 4"
       ]
      },
      {
       "output_type": "stream",
       "stream": "stdout",
       "text": [
        " 0.32 5"
       ]
      },
      {
       "output_type": "stream",
       "stream": "stdout",
       "text": [
        " 0.33 6"
       ]
      },
      {
       "output_type": "stream",
       "stream": "stdout",
       "text": [
        " 0.32 7"
       ]
      },
      {
       "output_type": "stream",
       "stream": "stdout",
       "text": [
        " 0.32 8"
       ]
      },
      {
       "output_type": "stream",
       "stream": "stdout",
       "text": [
        " 0.32 9"
       ]
      },
      {
       "output_type": "stream",
       "stream": "stdout",
       "text": [
        " 0.33 10"
       ]
      },
      {
       "output_type": "stream",
       "stream": "stdout",
       "text": [
        " 0.32 11"
       ]
      },
      {
       "output_type": "stream",
       "stream": "stdout",
       "text": [
        " 0.32 12"
       ]
      },
      {
       "output_type": "stream",
       "stream": "stdout",
       "text": [
        " 0.33 13"
       ]
      },
      {
       "output_type": "stream",
       "stream": "stdout",
       "text": [
        " 0.33 14"
       ]
      },
      {
       "output_type": "stream",
       "stream": "stdout",
       "text": [
        " 0.32 15"
       ]
      },
      {
       "output_type": "stream",
       "stream": "stdout",
       "text": [
        " 0.32 16"
       ]
      },
      {
       "output_type": "stream",
       "stream": "stdout",
       "text": [
        " 0.32 17"
       ]
      },
      {
       "output_type": "stream",
       "stream": "stdout",
       "text": [
        " 0.32 18"
       ]
      },
      {
       "output_type": "stream",
       "stream": "stdout",
       "text": [
        " 0.32 19"
       ]
      },
      {
       "output_type": "stream",
       "stream": "stdout",
       "text": [
        "\n"
       ]
      }
     ],
     "prompt_number": 8
    },
    {
     "cell_type": "code",
     "collapsed": false,
     "input": [
      "y_pred0 = h[0].predict(X_U)\n",
      "y_pred1 = h[1].predict(X_U)\n",
      "\n",
      "y_pred = 0.5*(y_pred0 + y_pred1)"
     ],
     "language": "python",
     "metadata": {},
     "outputs": [],
     "prompt_number": 16
    },
    {
     "cell_type": "code",
     "collapsed": false,
     "input": [
      "sub = pd.read_csv(os.path.join(DATA_DIR, 'sampleSubmission.csv'))\n",
      "sub['Prediction'] = y_pred\n",
      "sub.to_csv(os.path.join(SUBS_DIR, 'coreg0.csv'), index=False)"
     ],
     "language": "python",
     "metadata": {},
     "outputs": [
      {
       "metadata": {},
       "output_type": "pyout",
       "prompt_number": 162,
       "text": [
        "212.91"
       ]
      }
     ],
     "prompt_number": 162
    }
   ],
   "metadata": {}
  }
 ]
}